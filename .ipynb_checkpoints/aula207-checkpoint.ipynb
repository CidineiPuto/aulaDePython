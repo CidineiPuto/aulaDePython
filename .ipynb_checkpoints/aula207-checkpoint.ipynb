{
 "cells": [
  {
   "cell_type": "markdown",
   "id": "5864f22f-4fcc-43f9-843a-415bf24c7163",
   "metadata": {},
   "source": [
    "# Esse é meu título\n",
    "Essa linha cria uma variável `a`"
   ]
  },
  {
   "cell_type": "code",
   "execution_count": 2,
   "id": "ff1717b6-863e-42fa-9670-c6434a449c03",
   "metadata": {},
   "outputs": [],
   "source": [
    "a = 2"
   ]
  },
  {
   "cell_type": "code",
   "execution_count": 3,
   "id": "34919777-00d6-4d68-a53f-4bd240f0be9e",
   "metadata": {},
   "outputs": [
    {
     "data": {
      "text/plain": [
       "2"
      ]
     },
     "execution_count": 3,
     "metadata": {},
     "output_type": "execute_result"
    }
   ],
   "source": [
    "a"
   ]
  },
  {
   "cell_type": "markdown",
   "id": "ca37babd-f611-4b89-89f7-061b88c48cb2",
   "metadata": {},
   "source": [
    "Essa linha tem o valor da variável `a` em dobro."
   ]
  },
  {
   "cell_type": "code",
   "execution_count": 4,
   "id": "1fda33c1-e1d7-477b-b333-b9db5e3f8dc6",
   "metadata": {},
   "outputs": [
    {
     "data": {
      "text/plain": [
       "4"
      ]
     },
     "execution_count": 4,
     "metadata": {},
     "output_type": "execute_result"
    }
   ],
   "source": [
    "b = a * 2\n",
    "b"
   ]
  },
  {
   "cell_type": "markdown",
   "id": "778aaaf8-c112-4157-8d5d-b43fe48371ee",
   "metadata": {},
   "source": [
    "Essa linha mostra o valor de `a` + `b`"
   ]
  },
  {
   "cell_type": "code",
   "execution_count": 5,
   "id": "2f51298d-2a14-4b66-b5b4-0742c99bfa9f",
   "metadata": {},
   "outputs": [
    {
     "data": {
      "text/plain": [
       "6"
      ]
     },
     "execution_count": 5,
     "metadata": {},
     "output_type": "execute_result"
    }
   ],
   "source": [
    "a + b"
   ]
  },
  {
   "cell_type": "code",
   "execution_count": null,
   "id": "20dc3fb2-fdb3-4a48-9837-0d5be7664aff",
   "metadata": {},
   "outputs": [],
   "source": []
  }
 ],
 "metadata": {
  "kernelspec": {
   "display_name": "Python 3 (ipykernel)",
   "language": "python",
   "name": "python3"
  },
  "language_info": {
   "codemirror_mode": {
    "name": "ipython",
    "version": 3
   },
   "file_extension": ".py",
   "mimetype": "text/x-python",
   "name": "python",
   "nbconvert_exporter": "python",
   "pygments_lexer": "ipython3",
   "version": "3.11.1"
  }
 },
 "nbformat": 4,
 "nbformat_minor": 5
}
